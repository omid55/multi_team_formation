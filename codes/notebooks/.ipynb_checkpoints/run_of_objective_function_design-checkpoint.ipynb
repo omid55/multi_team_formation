{
 "cells": [
  {
   "cell_type": "code",
   "execution_count": 1,
   "metadata": {},
   "outputs": [],
   "source": [
    "# Omid55\n",
    "import teams_of_teams_problem\n",
    "import methods\n",
    "import numpy as np\n",
    "import time\n",
    "import gc\n",
    "import matplotlib.pyplot as plt"
   ]
  },
  {
   "cell_type": "markdown",
   "metadata": {
    "collapsed": true
   },
   "source": [
    "functions"
   ]
  },
  {
   "cell_type": "code",
   "execution_count": 2,
   "metadata": {},
   "outputs": [],
   "source": [
    "def plot_all_for_problem(problem):\n",
    "    n = problem.n\n",
    "    m = problem.m\n",
    "    k = problem.k\n",
    "    # a distribution of all score functions\n",
    "    # creating a population\n",
    "    population_size = 1000\n",
    "    population = []\n",
    "    for i in range(population_size):\n",
    "        people = np.random.choice(n, m * k, replace=False)\n",
    "        instance = [list(sorted(people[i * m:(i + 1) * m])) for i in range(k)]\n",
    "        population.append(instance)\n",
    "    # computing their fitnesses\n",
    "    # objectives\n",
    "    objs = [problem.score1, problem.score2, problem.score3, problem.objective_function]\n",
    "    for obj in objs:\n",
    "        print(obj)\n",
    "        start_time = time.time()\n",
    "        fitnesses = []\n",
    "        for instance in population:\n",
    "            fitnesses.append(obj(instance))\n",
    "        fitnesses = np.array(fitnesses)\n",
    "        duration = round(time.time() - start_time, 2)\n",
    "        print('(in ', duration, 's).')\n",
    "        # plotting\n",
    "        #sns.distplot(fitnesses)\n",
    "        plt.hist(fitnesses)\n",
    "        plt.show()\n",
    "        print('\\n\\n\\n\\n')"
   ]
  },
  {
   "cell_type": "markdown",
   "metadata": {},
   "source": [
    "Running"
   ]
  },
  {
   "cell_type": "code",
   "execution_count": 4,
   "metadata": {},
   "outputs": [
    {
     "name": "stdout",
     "output_type": "stream",
     "text": [
      "<bound method Problem.score1 of <teams_of_teams_problem.Problem object at 0x7ff008da6c18>>\n",
      "(in  0.34 s).\n"
     ]
    },
    {
     "data": {
      "image/png": "[encoded data removed]",
      "text/plain": [
       "<matplotlib.figure.Figure at 0x7ff03079b780>"
      ]
     },
     "metadata": {},
     "output_type": "display_data"
    },
    {
     "name": "stdout",
     "output_type": "stream",
     "text": [
      "\n",
      "\n",
      "\n",
      "\n",
      "\n",
      "<bound method Problem.score2 of <teams_of_teams_problem.Problem object at 0x7ff008da6c18>>\n",
      "(in  0.98 s).\n"
     ]
    },
    {
     "data": {
      "image/png": "[encoded data removed]",
      "text/plain": [
       "<matplotlib.figure.Figure at 0x7feffbf96e10>"
      ]
     },
     "metadata": {},
     "output_type": "display_data"
    },
    {
     "name": "stdout",
     "output_type": "stream",
     "text": [
      "\n",
      "\n",
      "\n",
      "\n",
      "\n",
      "<bound method Problem.score3 of <teams_of_teams_problem.Problem object at 0x7ff008da6c18>>\n",
      "(in  0.45 s).\n"
     ]
    },
    {
     "data": {
      "image/png": "[encoded data removed]",
      "text/plain": [
       "<matplotlib.figure.Figure at 0x7feffbf4fb00>"
      ]
     },
     "metadata": {},
     "output_type": "display_data"
    },
    {
     "name": "stdout",
     "output_type": "stream",
     "text": [
      "\n",
      "\n",
      "\n",
      "\n",
      "\n",
      "<bound method Problem.objective_function of <teams_of_teams_problem.Problem object at 0x7ff008da6c18>>\n",
      "(in  1.71 s).\n"
     ]
    },
    {
     "data": {
      "image/png": "[encoded data removed]",
      "text/plain": [
       "<matplotlib.figure.Figure at 0x7feffbecfb70>"
      ]
     },
     "metadata": {},
     "output_type": "display_data"
    },
    {
     "name": "stdout",
     "output_type": "stream",
     "text": [
      "\n",
      "\n",
      "\n",
      "\n",
      "\n"
     ]
    }
   ],
   "source": [
    "p1 = teams_of_teams_problem.Problem(n=1000, m=20, k=16, alpha=1/3, beta=1/3)\n",
    "plot_all_for_problem(p1)"
   ]
  },
  {
   "cell_type": "code",
   "execution_count": null,
   "metadata": {},
   "outputs": [],
   "source": []
  }
 ],
 "metadata": {
  "kernelspec": {
   "display_name": "Python 3",
   "language": "python",
   "name": "python3"
  },
  "language_info": {
   "codemirror_mode": {
    "name": "ipython",
    "version": 3
   },
   "file_extension": ".py",
   "mimetype": "text/x-python",
   "name": "python",
   "nbconvert_exporter": "python",
   "pygments_lexer": "ipython3",
   "version": "3.5.2"
  }
 },
 "nbformat": 4,
 "nbformat_minor": 1
}
